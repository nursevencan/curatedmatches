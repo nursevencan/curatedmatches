{
 "cells": [
  {
   "cell_type": "code",
   "execution_count": 35,
   "id": "10a9b80a-02d7-4174-9e96-352f7a2b5a19",
   "metadata": {
    "tags": []
   },
   "outputs": [],
   "source": [
    "import requests"
   ]
  },
  {
   "cell_type": "code",
   "execution_count": 36,
   "id": "2ea7929e-d036-415e-a5c7-be5b926da5b0",
   "metadata": {
    "tags": []
   },
   "outputs": [],
   "source": [
    "# Replace YOUR_API_KEY with your actual Circle API key\n",
    "CIRCLE_API_KEY = \"YOUR API KEY\"\n",
    "COMMUNITY_ID = \"YOUR COMMUNITY ID\""
   ]
  },
  {
   "cell_type": "code",
   "execution_count": 37,
   "id": "fc6cd6a4-c879-4dad-8142-cb5451cab7e4",
   "metadata": {
    "tags": []
   },
   "outputs": [],
   "source": [
    "import os\n",
    "from google.oauth2.credentials import Credentials\n",
    "from googleapiclient.discovery import build\n",
    "from google_auth_oauthlib.flow import InstalledAppFlow\n",
    "import gspread\n",
    "\n",
    "# set up Google Sheets API credentials\n",
    "SCOPES = ['https://www.googleapis.com/auth/spreadsheets']\n",
    "creds = None\n",
    "if os.path.exists('token.json'):\n",
    "    creds = Credentials.from_authorized_user_file('token.json', SCOPES)\n",
    "if not creds or not creds.valid:\n",
    "    flow = InstalledAppFlow.from_client_secrets_file('credentials.json', SCOPES)\n",
    "    creds = flow.run_local_server(port=0)\n",
    "    # Save the credentials for the next run\n",
    "    with open('token.json', 'w') as token:\n",
    "        token.write(creds.to_json())"
   ]
  },
  {
   "cell_type": "code",
   "execution_count": 38,
   "id": "dfd8b975-3179-4e50-90c4-8734bfb3ea7a",
   "metadata": {
    "tags": []
   },
   "outputs": [],
   "source": [
    "# open the Google Sheet by URL\n",
    "url = 'your spreadsheet url'\n",
    "gc = gspread.authorize(creds)\n",
    "sh = gc.open_by_url(url)"
   ]
  },
  {
   "cell_type": "code",
   "execution_count": 39,
   "id": "3f87b6bf-af7a-4586-809a-8d8966f04dad",
   "metadata": {
    "tags": []
   },
   "outputs": [],
   "source": [
    "# select the worksheet\n",
    "worksheet = sh.worksheet('sheet_1')"
   ]
  },
  {
   "cell_type": "code",
   "execution_count": 42,
   "id": "604352e0-80eb-413a-9dd9-aa5d741b92b8",
   "metadata": {
    "tags": []
   },
   "outputs": [],
   "source": [
    "# get all the data in the worksheet\n",
    "rows = worksheet.get_all_records()"
   ]
  },
  {
   "cell_type": "code",
   "execution_count": 43,
   "id": "b5b57014-7954-4b9c-9121-888c420ddc55",
   "metadata": {
    "tags": []
   },
   "outputs": [
    {
     "name": "stdout",
     "output_type": "stream",
     "text": [
      "Group message sent to Nur Sevencan and Kendall Jenkins\n",
      "Group message sent to Nur Sevencan and Hayley Wade\n",
      "Group message sent to Nur Sevencan and Blake Arensdorf\n",
      "Group message sent to Nur Sevencan and Janel Loi\n"
     ]
    }
   ],
   "source": [
    "import requests\n",
    "import json\n",
    "\n",
    "# Iterate over the data and send group messages\n",
    "for row in rows:\n",
    "    fellow_name_1 = row['Fellow Name 1']\n",
    "    fellow_name_2 = row['Fellow Name 2']\n",
    "    fellow_email_1 = row['Fellow_Email_1']\n",
    "    fellow_email_2 = row['Fellow_Email_2']\n",
    "    match_reasoning = row['Match Reasoning Variable']\n",
    "    \n",
    "    # Create the message body with variables\n",
    "    message_body = f\"\"\"Hi {fellow_name_1} and {fellow_name_2},\n",
    "\n",
    "Why we matched you: {match_reasoning} 🤩\n",
    "\n",
    "Your introduction message....\n",
    "\n",
    "    # Create the payload for the request\n",
    "    payload = {\n",
    "        \"community_id\": COMMUNITY_ID,\n",
    "        \"message_body\": message_body,\n",
    "        \"user_emails\": [fellow_email_1, fellow_email_2]\n",
    "    }\n",
    "\n",
    "    # Set the headers\n",
    "    headers = {\n",
    "        \"Authorization\": f\"Token {CIRCLE_API_KEY}\",\n",
    "        \"Content-Type\": \"application/json\"\n",
    "    }\n",
    "\n",
    "    # Create the URL for the request\n",
    "    url = f\"https://app.circle.so/api/v1/messages\"\n",
    "\n",
    "    # Send the request to create the group message\n",
    "    response = requests.post(url, headers=headers, data=json.dumps(payload))\n",
    "\n",
    "    # Check the response status code\n",
    "    if response.status_code == 200:\n",
    "        print(f\"Group message sent to {fellow_name_1} and {fellow_name_2}\")\n",
    "    else:\n",
    "        print(f\"Error creating group message: {response.status_code} {response.content}\")\n"
   ]
  },
  {
   "cell_type": "code",
   "execution_count": 44,
   "id": "92ff0a60-ca16-4a20-a89a-1d4fa846ddc1",
   "metadata": {},
   "outputs": [
    {
     "name": "stdout",
     "output_type": "stream",
     "text": [
      "RateLimit-Limit: None\n",
      "RateLimit-Remaining: None\n",
      "RateLimit-Reset: None\n"
     ]
    }
   ],
   "source": [
    "import requests\n",
    "\n",
    "# Replace YOUR_CIRCLE_API_KEY with your actual Circle API key\n",
    "headers = {\n",
    "    \"Authorization\": \"Bearer YOUR_CIRCLE_API_KEY\"\n",
    "}\n",
    "\n",
    "response = requests.get('https://api.circle.so/api/v1/spaces', headers=headers)\n",
    "\n",
    "print(f\"RateLimit-Limit: {response.headers.get('X-RateLimit-Limit')}\")\n",
    "print(f\"RateLimit-Remaining: {response.headers.get('X-RateLimit-Remaining')}\")\n",
    "print(f\"RateLimit-Reset: {response.headers.get('X-RateLimit-Reset')}\")\n"
   ]
  },
  {
   "cell_type": "code",
   "execution_count": null,
   "id": "decf27a0-3fcd-46c5-aec9-3df818278577",
   "metadata": {},
   "outputs": [],
   "source": []
  }
 ],
 "metadata": {
  "kernelspec": {
   "display_name": "Python 3 (ipykernel)",
   "language": "python",
   "name": "python3"
  },
  "language_info": {
   "codemirror_mode": {
    "name": "ipython",
    "version": 3
   },
   "file_extension": ".py",
   "mimetype": "text/x-python",
   "name": "python",
   "nbconvert_exporter": "python",
   "pygments_lexer": "ipython3",
   "version": "3.11.3"
  }
 },
 "nbformat": 4,
 "nbformat_minor": 5
}
